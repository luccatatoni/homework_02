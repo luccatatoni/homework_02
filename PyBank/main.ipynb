{
 "cells": [
  {
   "cell_type": "code",
   "execution_count": 2,
   "id": "literary-wonder",
   "metadata": {},
   "outputs": [],
   "source": [
    "# Import the pathlib and csv library\n",
    "from pathlib import Path\n",
    "import csv\n",
    "\n",
    "# Set the file path\n",
    "csvpath = Path(\"./budget_data.csv\")\n",
    "output = Path(\"output.txt\")\n",
    "\n",
    "# Initialize variables\n",
    "total_months = 0\n",
    "total_net = 0\n",
    "\n",
    "monthly_change = []\n",
    "net_change_list = []\n",
    "\n",
    "greatest_increase = [\"\", 0]\n",
    "greatest_decrease = [\"\", 9999999999999]"
   ]
  },
  {
   "cell_type": "code",
   "execution_count": 4,
   "id": "sophisticated-great",
   "metadata": {},
   "outputs": [
    {
     "name": "stdout",
     "output_type": "stream",
     "text": [
      "Financial Analysis\n",
      "\n",
      "-----------------------------------\n",
      "\n",
      "Total Months: 172\n",
      "\n",
      "Total Revenue:$76765156\n",
      "\n",
      "Average Revenue Change: $446309.05\n",
      "\n",
      "Greatest Increase in Revenue: ['Feb-2012', 1926159]\n",
      "\n",
      "Greatest Decrease in Revenue: ['Sep-2013', -2196167]\n",
      "\n"
     ]
    }
   ],
   "source": [
    "with open(csvpath, 'r') as input_file:\n",
    "    reader = csv.reader(input_file, delimiter=',')\n",
    "    \n",
    "    header = next(reader)\n",
    "    \n",
    "    first_row = next(reader)\n",
    "    total_months = total_months + 1\n",
    "    total_net = total_net + int(first_row[1])\n",
    "    prev_net = int(first_row[1])\n",
    "    \n",
    "    for row in reader:\n",
    "        \n",
    "        total_months = total_months + 1\n",
    "        total_net = total_net + int(row[1])\n",
    "        \n",
    "        \n",
    "        net_change = int(row[1]) - prev_net\n",
    "        prev_net = int(row[1])\n",
    "        net_change_list = net_change_list + [net_change]\n",
    "                         \n",
    "        if net_change > greatest_increase[1]:\n",
    "            greatest_increase[0] = row[0]\n",
    "            greatest_increase[1] = net_change\n",
    "                         \n",
    "        if net_change <  greatest_decrease[1]:\n",
    "            greatest_decrease[0] = row[0]\n",
    "            greatest_decrease[1] = net_change\n",
    "                        \n",
    "with open(output, 'w') as output_file:\n",
    "    output_file.write(\"Financial Analysis\\n\")\n",
    "    output_file.write(\"-----------------------------------\\n\")\n",
    "    output_file.write(f\"Total Months: {total_months}\\n\")\n",
    "    output_file.write(f\"Total Revenue:${total_net}\\n\")\n",
    "    output_file.write(f\"Average Revenue Change: ${round(total_net / total_months,2)}\\n\")\n",
    "    output_file.write(f\"Greatest Increase in Revenue: {greatest_increase}\\n\")\n",
    "    output_file.write(f\"Greatest Decrease in Revenue: {greatest_decrease}\\n\")\n",
    "    \n",
    "\n",
    "                    "
   ]
  },
  {
   "cell_type": "code",
   "execution_count": 7,
   "id": "express-ballot",
   "metadata": {},
   "outputs": [],
   "source": []
  },
  {
   "cell_type": "code",
   "execution_count": null,
   "id": "derived-provision",
   "metadata": {},
   "outputs": [],
   "source": []
  },
  {
   "cell_type": "code",
   "execution_count": null,
   "id": "selective-documentation",
   "metadata": {},
   "outputs": [],
   "source": []
  },
  {
   "cell_type": "code",
   "execution_count": null,
   "id": "crude-twelve",
   "metadata": {},
   "outputs": [],
   "source": []
  },
  {
   "cell_type": "code",
   "execution_count": null,
   "id": "polyphonic-wings",
   "metadata": {},
   "outputs": [],
   "source": []
  },
  {
   "cell_type": "code",
   "execution_count": null,
   "id": "billion-astrology",
   "metadata": {},
   "outputs": [],
   "source": []
  },
  {
   "cell_type": "code",
   "execution_count": null,
   "id": "front-warning",
   "metadata": {},
   "outputs": [],
   "source": []
  }
 ],
 "metadata": {
  "kernelspec": {
   "display_name": "Python 3",
   "language": "python",
   "name": "python3"
  },
  "language_info": {
   "codemirror_mode": {
    "name": "ipython",
    "version": 3
   },
   "file_extension": ".py",
   "mimetype": "text/x-python",
   "name": "python",
   "nbconvert_exporter": "python",
   "pygments_lexer": "ipython3",
   "version": "3.8.5"
  }
 },
 "nbformat": 4,
 "nbformat_minor": 5
}
