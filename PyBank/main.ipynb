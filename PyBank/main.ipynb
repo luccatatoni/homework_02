{
 "cells": [
  {
   "cell_type": "code",
   "execution_count": 20,
   "id": "capital-category",
   "metadata": {},
   "outputs": [
    {
     "name": "stdout",
     "output_type": "stream",
     "text": [
      "Financial Analysis\n",
      "-----------------------------------\n",
      "Total Months: 86\n",
      "Total Revenue: $ 38382578.0\n",
      "Avereage Revenue Change: $ -2315\n",
      "Greatest Increase in Revenue: Jan-2012 ($ 1926159.0 )\n",
      "Greatest Decrease in Revenue: Aug-2013 ($ -2196167.0 )\n"
     ]
    }
   ],
   "source": [
    "# Import the pathlib and csv library\n",
    "from pathlib import Path\n",
    "import csv\n",
    "\n",
    "\n",
    "# Set the file path\n",
    "file_to_load = \"./budget_data.csv\"\n",
    "\n",
    "\n",
    "# Read the csv and convert it into a list of dictionaries\n",
    "with open(file_to_load) as revenue_data:\n",
    "    reader = csv.reader(revenue_data)\n",
    "\n",
    "    # use of next to skip first title row in csv file\n",
    "    next(reader) \n",
    "    revenue = []\n",
    "    date = []\n",
    "    rev_change = []\n",
    "\n",
    "    # sum of column 1 which is revenue in csv file and counted total months which is column 0 \n",
    "    for row in reader:\n",
    "\n",
    "        revenue.append(float(row[1]))\n",
    "        date.append(row[0])\n",
    "\n",
    "    print(\"Financial Analysis\")\n",
    "    print(\"-----------------------------------\")\n",
    "    print(\"Total Months:\", len(date))\n",
    "    print(\"Total Revenue: $\", sum(revenue))\n",
    "\n",
    "\n",
    "    #Total of difference between all row of column \"Revenue\" and found total revenue change.\n",
    "    #Also found out max revenue change and min revenue change. \n",
    "    for i in range(1,len(revenue)):\n",
    "        rev_change.append(revenue[i] - revenue[i-1])   \n",
    "        avg_rev_change = sum(rev_change)/len(rev_change)\n",
    "\n",
    "        max_rev_change = max(rev_change)\n",
    "\n",
    "        min_rev_change = min(rev_change)\n",
    "\n",
    "        max_rev_change_date = str(date[rev_change.index(max(rev_change))])\n",
    "        min_rev_change_date = str(date[rev_change.index(min(rev_change))])\n",
    "\n",
    "\n",
    "    print(\"Avereage Revenue Change: $\", round(avg_rev_change))\n",
    "    print(\"Greatest Increase in Revenue:\", max_rev_change_date,\"($\", max_rev_change,\")\")\n",
    "    print(\"Greatest Decrease in Revenue:\", min_rev_change_date,\"($\", min_rev_change,\")\")\n",
    "\n",
    "\n"
   ]
  },
  {
   "cell_type": "code",
   "execution_count": null,
   "id": "precise-fault",
   "metadata": {},
   "outputs": [],
   "source": []
  },
  {
   "cell_type": "raw",
   "id": "industrial-brisbane",
   "metadata": {},
   "source": []
  },
  {
   "cell_type": "code",
   "execution_count": null,
   "id": "satisfied-assist",
   "metadata": {},
   "outputs": [],
   "source": []
  }
 ],
 "metadata": {
  "kernelspec": {
   "display_name": "Python 3",
   "language": "python",
   "name": "python3"
  },
  "language_info": {
   "codemirror_mode": {
    "name": "ipython",
    "version": 3
   },
   "file_extension": ".py",
   "mimetype": "text/x-python",
   "name": "python",
   "nbconvert_exporter": "python",
   "pygments_lexer": "ipython3",
   "version": "3.8.5"
  }
 },
 "nbformat": 4,
 "nbformat_minor": 5
}
