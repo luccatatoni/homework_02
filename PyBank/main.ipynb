{
 "cells": [
  {
   "cell_type": "code",
   "execution_count": 6,
   "id": "painted-classics",
   "metadata": {},
   "outputs": [],
   "source": [
    "# Import the pathlib and csv library\n",
    "from pathlib import Path\n",
    "import csv\n",
    "\n",
    "# Set the file path\n",
    "csvpath = Path(\"./budget_data.csv\")\n",
    "output = Path(\"output.txt\")\n",
    "\n",
    "# Initialize variables that I will be using along the way\n",
    "total_months = 0\n",
    "total_net = 0\n",
    "\n",
    "monthly_change = []\n",
    "net_change_list = []\n",
    "\n",
    "greatest_increase = [\"\", 0]\n",
    "greatest_decrease = [\"\", 9999999999999]"
   ]
  },
  {
   "cell_type": "code",
   "execution_count": 7,
   "id": "arabic-calibration",
   "metadata": {},
   "outputs": [],
   "source": [
    "#open the file and read it \n",
    "with open(csvpath, 'r') as input_file:\n",
    "    reader = csv.reader(input_file, delimiter=',')\n",
    "    \n",
    "    #skip the first row (that contains the header)\n",
    "    header = next(reader)\n",
    "      \n",
    "    #create variable for first row\n",
    "    first_row = next(reader)\n",
    "    \n",
    "    #create a formula to calculate the total_months\n",
    "    total_months = total_months + 1\n",
    "    \n",
    "    #create a formula to calculate total_net (considering we are in the first row of data)\n",
    "    total_net = total_net + int(first_row[1]) \n",
    "    #create a formula to calculate prev_net\n",
    "    prev_net = int(first_row[1])\n",
    "    \n",
    "    #loop to iterate each row\n",
    "    for row in reader:\n",
    "        \n",
    "        #increase the count of total months by 1 on each iteration\n",
    "        total_months = total_months + 1\n",
    "        #add up the total_net to each row 1 (pnl)\n",
    "        total_net = total_net + int(row[1])\n",
    "     \n",
    "        #calculate net_change as current pnl value of row and subtract the prev_net     \n",
    "        net_change = int(row[1]) - prev_net\n",
    "        #calculate prev_net as the pnl value of current row\n",
    "        prev_net = int(row[1])\n",
    "        #append to the list the net change\n",
    "        net_change_list = net_change_list + [net_change]\n",
    "\n",
    "        #if statements to find the greatest increase and decrease\n",
    "        if net_change > greatest_increase[1]:\n",
    "            greatest_increase[0] = row[0]\n",
    "            greatest_increase[1] = net_change\n",
    "                         \n",
    "        if net_change <  greatest_decrease[1]:\n",
    "            greatest_decrease[0] = row[0]\n",
    "            greatest_decrease[1] = net_change"
   ]
  },
  {
   "cell_type": "code",
   "execution_count": 8,
   "id": "given-blink",
   "metadata": {},
   "outputs": [
    {
     "name": "stdout",
     "output_type": "stream",
     "text": [
      "Financial Analysis\n",
      "\n",
      "-----------------------------------\n",
      "\n",
      "Total Months: 86\n",
      "\n",
      "Total Revenue:$38382578\n",
      "\n",
      "Average Revenue Change: $-2315.12\n",
      "\n",
      "Greatest Increase in Revenue: ['Feb-2012', 1926159]\n",
      "\n",
      "Greatest Decrease in Revenue: ['Sep-2013', -2196167]\n",
      "\n"
     ]
    }
   ],
   "source": [
    "            \n",
    "#print results\n",
    "print(\"Financial Analysis\\n\")\n",
    "print(\"-----------------------------------\\n\")\n",
    "print(f\"Total Months: {total_months}\\n\")\n",
    "print(f\"Total Revenue:${total_net}\\n\")\n",
    "print(f\"Average Revenue Change: ${round(sum(net_change_list)/len(net_change_list),2)}\\n\")\n",
    "print(f\"Greatest Increase in Revenue: {greatest_increase}\\n\")\n",
    "print(f\"Greatest Decrease in Revenue: {greatest_decrease}\\n\")     "
   ]
  },
  {
   "cell_type": "code",
   "execution_count": 9,
   "id": "activated-ordering",
   "metadata": {},
   "outputs": [],
   "source": [
    "#write the results to an output file\n",
    "with open(output, 'w') as output_file:\n",
    "    output_file.write(\"Financial Analysis\\n\")\n",
    "    output_file.write(\"-----------------------------------\\n\")\n",
    "    output_file.write(f\"Total Months: {total_months}\\n\")\n",
    "    output_file.write(f\"Total Revenue:${total_net}\\n\")\n",
    "    output_file.write(f\"Average Revenue Change: ${round(sum(net_change_list)/len(net_change_list),2)}\\n\")\n",
    "    output_file.write(f\"Greatest Increase in Revenue: {greatest_increase}\\n\")\n",
    "    output_file.write(f\"Greatest Decrease in Revenue: {greatest_decrease}\\n\")\n",
    "    \n",
    "\n",
    "                    "
   ]
  }
 ],
 "metadata": {
  "kernelspec": {
   "display_name": "Python 3",
   "language": "python",
   "name": "python3"
  },
  "language_info": {
   "codemirror_mode": {
    "name": "ipython",
    "version": 3
   },
   "file_extension": ".py",
   "mimetype": "text/x-python",
   "name": "python",
   "nbconvert_exporter": "python",
   "pygments_lexer": "ipython3",
   "version": "3.8.5"
  }
 },
 "nbformat": 4,
 "nbformat_minor": 5
}
