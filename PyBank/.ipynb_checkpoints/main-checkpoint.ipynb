{
 "cells": [
  {
   "cell_type": "code",
   "execution_count": 8,
   "id": "patient-saturday",
   "metadata": {},
   "outputs": [],
   "source": [
    "# Import the pathlib and csv library\n",
    "from pathlib import Path\n",
    "import csv\n",
    "\n",
    "# Set the file path\n",
    "csvpath = Path(\"./budget_data.csv\")\n",
    "output = Path(\"output.txt\")\n",
    "\n",
    "# Initialize variables\n",
    "total_months = 0\n",
    "total_net = 0\n",
    "\n",
    "monthly_change = []\n",
    "net_change_list = []\n",
    "\n",
    "greatest_increase = [\"\", 0]\n",
    "greatest_decrease = [\"\", 9999999999999]"
   ]
  },
  {
   "cell_type": "code",
   "execution_count": 11,
   "id": "blond-nicholas",
   "metadata": {},
   "outputs": [],
   "source": [
    "with open(csvpath, 'r') as input_file:\n",
    "    reader = csv.reader(input_file, delimiter=',')\n",
    "    \n",
    "    header = next(reader)\n",
    "    \n",
    "    first_row = next(reader)\n",
    "    total_months = total_months + 1\n",
    "    total_net = total_net + int(first_row[1])\n",
    "    prev_net = int(first_row[1])\n",
    "    \n",
    "    for row in reader:\n",
    "        \n",
    "        total_months = total_months + 1\n",
    "        total_net = total_net + int(row[1])\n",
    "        \n",
    "        \n",
    "        net_change = int(row[1]) - prev_net\n",
    "        prev_net = int(row[1])\n",
    "        net_change_list = net_change_list + [net_change]\n",
    "                         \n",
    "        if net_change > greatest_increase[1]:\n",
    "            greatest_increase[0] = row[0]\n",
    "            greatest_increase[1] = net_change\n",
    "                         \n",
    "        if net_change <  greatest_decrease[1]:\n",
    "            greatest_decrease[0] = row[0]\n",
    "            greatest_decrease[1] = net_change\n",
    "                        \n",
    "with open(output, 'w') as output_file:\n",
    "    output_file.write(\"Financial Analysis\\n\")\n",
    "    output_file.write(\"-----------------------------------\\n\")\n",
    "    output_file.write(f\"Total Months: {total_months}\\n\")\n",
    "    output_file.write(f\"Total Revenue:${total_net}\\n\")\n",
    "    output_file.write(f\"Average Revenue Change: ${round(total_net / total_months,2)}\\n\")\n",
    "    output_file.write(f\"Greatest Increase in Revenue: {greatest_increase}\\n\")\n",
    "    output_file.write(f\"Greatest Decrease in Revenue: {greatest_decrease}\\n\")\n",
    "                    "
   ]
  },
  {
   "cell_type": "code",
   "execution_count": 7,
   "id": "victorian-boring",
   "metadata": {},
   "outputs": [],
   "source": []
  },
  {
   "cell_type": "code",
   "execution_count": null,
   "id": "worthy-provider",
   "metadata": {},
   "outputs": [],
   "source": []
  },
  {
   "cell_type": "code",
   "execution_count": 4,
   "id": "geographic-edition",
   "metadata": {},
   "outputs": [
    {
     "name": "stdout",
     "output_type": "stream",
     "text": [
      "['Date', 'Profit/Losses']\n"
     ]
    },
    {
     "ename": "NameError",
     "evalue": "name 'records' is not defined",
     "output_type": "error",
     "traceback": [
      "\u001b[0;31m---------------------------------------------------------------------------\u001b[0m",
      "\u001b[0;31mNameError\u001b[0m                                 Traceback (most recent call last)",
      "\u001b[0;32m<ipython-input-4-14f8813126fb>\u001b[0m in \u001b[0;36m<module>\u001b[0;34m\u001b[0m\n\u001b[1;32m     15\u001b[0m     \u001b[0mcsv_header\u001b[0m\u001b[0;34m.\u001b[0m\u001b[0mappend\u001b[0m\u001b[0;34m(\u001b[0m\u001b[0;34m\"Diff\"\u001b[0m\u001b[0;34m)\u001b[0m\u001b[0;34m\u001b[0m\u001b[0;34m\u001b[0m\u001b[0m\n\u001b[1;32m     16\u001b[0m     \u001b[0;31m# Append the header to the list of records\u001b[0m\u001b[0;34m\u001b[0m\u001b[0;34m\u001b[0m\u001b[0;34m\u001b[0m\u001b[0m\n\u001b[0;32m---> 17\u001b[0;31m     \u001b[0mrecords\u001b[0m\u001b[0;34m.\u001b[0m\u001b[0mappend\u001b[0m\u001b[0;34m(\u001b[0m\u001b[0mcsv_header\u001b[0m\u001b[0;34m)\u001b[0m\u001b[0;34m\u001b[0m\u001b[0;34m\u001b[0m\u001b[0m\n\u001b[0m\u001b[1;32m     18\u001b[0m     \u001b[0mprint\u001b[0m\u001b[0;34m(\u001b[0m\u001b[0mrecords\u001b[0m\u001b[0;34m)\u001b[0m\u001b[0;34m\u001b[0m\u001b[0;34m\u001b[0m\u001b[0m\n\u001b[1;32m     19\u001b[0m \u001b[0;34m\u001b[0m\u001b[0m\n",
      "\u001b[0;31mNameError\u001b[0m: name 'records' is not defined"
     ]
    }
   ],
   "source": [
    "# Open the csv file as an object\n",
    "with open(csvpath, \"r\") as budget:\n",
    "\n",
    "    # Pass in the csv file to the csv.reader() function\n",
    "    # (with ',' as the delmiter/separator) and return the csvreader object\n",
    "    csvreader = csv.reader(budget, delimiter=\",\")\n",
    "    \n",
    "    \n",
    "    # Read the header row first\n",
    "    csv_header = next(csvreader)\n",
    "    # Print the header\n",
    "    print(csv_header)\n",
    "\n",
    "    # Append the column 'Diff' to the header\n",
    "    csv_header.append(\"Diff\")\n",
    "    # Append the header to the list of records\n",
    "    records.append(csv_header)\n",
    "    print(records)\n",
    "    \n",
    "    # Read each row of data after the header\n",
    "    for row in csvreader:\n",
    "        # Print the row\n",
    "        print(row)\n",
    "        \n",
    "        date = row[0]\n",
    "        pnl = int(row[1])\n",
    "        diff = []    \n",
    "\n",
    "        \n",
    "        \n",
    "    for i in range(1,len(pnl)):\n",
    "        diff.append(pnl[i] - pnl[i-1])   \n",
    "        #define formulas\n",
    "        avg_diff = sum(diff)/len(diff)\n",
    "        max_diff = max(diff)\n",
    "        min_diff = min(diff)\n",
    "        \n",
    "        max_diff_date = str(date[diff.index(max(diff))])\n",
    "        min_diff_date = str(date[diff.index(min(diff))])\n",
    "\n",
    "\n",
    "print(\"Avereage Revenue Change: $\", round(avg_diff))\n",
    "print(\"Greatest Increase in Revenue:\", max_diff_date,\"($\", max_diff,\")\")\n",
    "print(\"Greatest Decrease in Revenue:\", min_diff_date,\"($\", min_diff,\")\")\n",
    "\n"
   ]
  },
  {
   "cell_type": "code",
   "execution_count": null,
   "id": "available-twins",
   "metadata": {},
   "outputs": [],
   "source": []
  },
  {
   "cell_type": "code",
   "execution_count": null,
   "id": "virtual-plastic",
   "metadata": {},
   "outputs": [],
   "source": []
  },
  {
   "cell_type": "code",
   "execution_count": null,
   "id": "geological-shield",
   "metadata": {},
   "outputs": [],
   "source": [
    "# Set the path for the output.csv\n",
    "output = Path(\"output.csv\")\n",
    "# Open the output path as a file and pass into the 'csv.writer()' function\n",
    "# Set the delimiter/separater as a ','\n",
    "with open(output, 'w') as csvfile:\n",
    "    csvwriter = csv.writer(csvfile, delimiter=',')\n",
    "\n",
    "    # Loop through the list of records and write every record to the\n",
    "    # output csv file\n",
    "    for record in records:\n",
    "        csvwriter.writerow(record)"
   ]
  },
  {
   "cell_type": "code",
   "execution_count": null,
   "id": "stupid-estonia",
   "metadata": {},
   "outputs": [],
   "source": [
    "\n",
    "        \n",
    "        # Calculate the average and round to the nearest 2 decimal places\n",
    "        change = round(revenue / count, 2)\n",
    "        \n",
    "        # Append the average to the row\n",
    "        row.append(change)\n",
    "        # Append the row to the list of records\n",
    "        records.append(row)\n"
   ]
  }
 ],
 "metadata": {
  "kernelspec": {
   "display_name": "Python 3",
   "language": "python",
   "name": "python3"
  },
  "language_info": {
   "codemirror_mode": {
    "name": "ipython",
    "version": 3
   },
   "file_extension": ".py",
   "mimetype": "text/x-python",
   "name": "python",
   "nbconvert_exporter": "python",
   "pygments_lexer": "ipython3",
   "version": "3.8.5"
  }
 },
 "nbformat": 4,
 "nbformat_minor": 5
}
